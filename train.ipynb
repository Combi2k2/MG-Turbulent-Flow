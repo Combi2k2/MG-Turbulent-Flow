{
 "cells": [
  {
   "cell_type": "code",
   "execution_count": null,
   "metadata": {},
   "outputs": [],
   "source": [
    "import torch\n",
    "import torch.nn as nn\n",
    "import torch.optim as optim\n",
    "import torch.nn.functional as F\n",
    "\n",
    "import logging\n",
    "\n",
    "from utils.train_pipeline import Trainer, CheckPointArgs, TrainArgs\n",
    "from utils.metrics import DivergenceLoss\n",
    "from utils.dataset import rbc_data\n",
    "\n",
    "from models import *"
   ]
  },
  {
   "cell_type": "code",
   "execution_count": null,
   "metadata": {},
   "outputs": [],
   "source": [
    "experiment_name = 'rbc_data_16_4'\n",
    "model_name = 'Multigrid'"
   ]
  },
  {
   "cell_type": "code",
   "execution_count": null,
   "metadata": {},
   "outputs": [],
   "source": [
    "training_args = TrainArgs(num_epochs = 100,batch_size = 16, learning_rate = 2e-5)\n",
    "checkpoint_args = CheckPointArgs(model_name, experiment_name)"
   ]
  },
  {
   "cell_type": "code",
   "execution_count": null,
   "metadata": {},
   "outputs": [],
   "source": [
    "print(training_args.batch_size)\n",
    "print(training_args.learning_rate)\n",
    "print(training_args.num_epochs)"
   ]
  },
  {
   "cell_type": "code",
   "execution_count": null,
   "metadata": {},
   "outputs": [],
   "source": [
    "input_length = 16\n",
    "output_length = 4\n",
    "\n",
    "data_prep = [torch.load('data/sample_0.pt'),\n",
    "             torch.load('data/sample_1.pt'),\n",
    "             torch.load('data/sample_2.pt'),\n",
    "             torch.load('data/sample_4.pt')]\n",
    "\n",
    "train_indices = list(range(3000))\n",
    "valid_indices = list(range(3000, 4000))\n",
    "\n",
    "train_ds = rbc_data(data_prep, train_indices, input_length, output_length, False)\n",
    "valid_ds = rbc_data(data_prep, train_indices, input_length, output_length, False)"
   ]
  },
  {
   "cell_type": "code",
   "execution_count": null,
   "metadata": {},
   "outputs": [],
   "source": [
    "model = MG((2, 64, 64), input_length, output_length)"
   ]
  },
  {
   "cell_type": "code",
   "execution_count": null,
   "metadata": {},
   "outputs": [],
   "source": [
    "print(count_parameters(model))"
   ]
  },
  {
   "cell_type": "code",
   "execution_count": null,
   "metadata": {},
   "outputs": [],
   "source": [
    "logging_configs = {\n",
    "    'filename' : f'multigrid_log.log',\n",
    "    'level'    : logging.INFO,\n",
    "# 'format'   : \"{asctime} {levelname:<8} {message}\"\n",
    "}"
   ]
  },
  {
   "cell_type": "code",
   "execution_count": null,
   "metadata": {},
   "outputs": [],
   "source": [
    "torch.cuda.empty_cache()"
   ]
  },
  {
   "cell_type": "code",
   "execution_count": null,
   "metadata": {},
   "outputs": [],
   "source": [
    "trainer = Trainer(model, train_ds, valid_ds, checkpoint_args, training_args, logging_config = logging_configs)\n",
    "trainer.train()"
   ]
  }
 ],
 "metadata": {
  "kernelspec": {
   "display_name": "test",
   "language": "python",
   "name": "python3"
  },
  "language_info": {
   "codemirror_mode": {
    "name": "ipython",
    "version": 3
   },
   "file_extension": ".py",
   "mimetype": "text/x-python",
   "name": "python",
   "nbconvert_exporter": "python",
   "pygments_lexer": "ipython3",
   "version": "3.10.0"
  },
  "orig_nbformat": 4,
  "vscode": {
   "interpreter": {
    "hash": "8a941e9cbfe173e85db397a6a883a0872b2885cb30a01a35c6e75c634ab4f81c"
   }
  }
 },
 "nbformat": 4,
 "nbformat_minor": 2
}
